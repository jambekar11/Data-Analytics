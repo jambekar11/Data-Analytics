{
 "cells": [
  {
   "cell_type": "code",
   "execution_count": 4,
   "metadata": {},
   "outputs": [],
   "source": [
    "import cv2 \n",
    "import numpy as np \n",
    "import random \n",
    "\n",
    "\n",
    "# Encryption function \n",
    "def encrypt(): \n",
    "\n",
    "# img1 and img2 are the \n",
    "# two input images \n",
    "    img1 = cv2.imread('normal.jpg') \n",
    "    img2 = cv2.imread('secret.jpg') \n",
    "\n",
    "    for i in range(img2.shape[0]): \n",
    "        for j in range(img2.shape[1]): \n",
    "            for l in range(3): \n",
    "\n",
    "                # v1 and v2 are 8-bit pixel values \n",
    "                # of img1 and img2 respectively \n",
    "                v1 = format(img1[i][j][l], '08b') \n",
    "                v2 = format(img2[i][j][l], '08b') \n",
    "\n",
    "                # Taking 4 MSBs of each image \n",
    "                v3 = v1[:4] + v2[:4] \n",
    "            \n",
    "                img1[i][j][l]= int(v3, 2) \n",
    "\n",
    "        cv2.imwrite('Encrypted.png', img1) \n",
    "\n",
    "\n",
    "encrypt() "
   ]
  },
  {
   "cell_type": "code",
   "execution_count": 5,
   "metadata": {},
   "outputs": [],
   "source": [
    "# Decryption function \n",
    "def decrypt(): \n",
    "\n",
    "# Encrypted image \n",
    "img = cv2.imread('Encrypted.png') \n",
    "width = img.shape[0] \n",
    "height = img.shape[1] \n",
    "\n",
    "# img1 and img2 are two blank images \n",
    "img1 = np.zeros((width, height, 3), np.uint8) \n",
    "img2 = np.zeros((width, height, 3), np.uint8) \n",
    "\n",
    "for i in range(width): \n",
    "    for j in range(height): \n",
    "        for l in range(3): \n",
    "            v1 = format(img[i][j][l], '08b') \n",
    "            v2 = v1[:4] + chr(random.randint(0, 1)+48) * 4\n",
    "            v3 = v1[4:] + chr(random.randint(0, 1)+48) * 4\n",
    "\n",
    "            # Appending data to img1 and img2 \n",
    "            img1[i][j][l]= int(v2, 2) \n",
    "            img2[i][j][l]= int(v3, 2) \n",
    "\n",
    "# These are two images produced from \n",
    "# the encrypted image \n",
    "cv2.imwrite('Decrypted1.png', img1) \n",
    "cv2.imwrite('Decrypted2.png', img2) \n",
    "\n",
    "\n",
    "\n",
    "\n",
    "decrypt() \n"
   ]
  },
  {
   "cell_type": "code",
   "execution_count": null,
   "metadata": {},
   "outputs": [],
   "source": []
  }
 ],
 "metadata": {
  "kernelspec": {
   "display_name": "Python 3",
   "language": "python",
   "name": "python3"
  },
  "language_info": {
   "codemirror_mode": {
    "name": "ipython",
    "version": 3
   },
   "file_extension": ".py",
   "mimetype": "text/x-python",
   "name": "python",
   "nbconvert_exporter": "python",
   "pygments_lexer": "ipython3",
   "version": "3.7.6"
  }
 },
 "nbformat": 4,
 "nbformat_minor": 4
}
