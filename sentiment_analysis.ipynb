{
 "cells": [
  {
   "cell_type": "markdown",
   "metadata": {},
   "source": [
    "# SENTIMENT ANALYSIS ON TWITTER"
   ]
  },
  {
   "cell_type": "code",
   "execution_count": 38,
   "metadata": {},
   "outputs": [],
   "source": [
    "# print all the outputs in a cell\n",
    "from IPython.core.interactiveshell import InteractiveShell\n",
    "InteractiveShell.ast_node_interactivity = \"all\""
   ]
  },
  {
   "cell_type": "code",
   "execution_count": 39,
   "metadata": {},
   "outputs": [
    {
     "data": {
      "application/javascript": [
       "IPython.notebook.set_autosave_interval(0)"
      ]
     },
     "metadata": {},
     "output_type": "display_data"
    },
    {
     "name": "stdout",
     "output_type": "stream",
     "text": [
      "Autosave disabled\n"
     ]
    }
   ],
   "source": [
    "%autosave 0"
   ]
  },
  {
   "cell_type": "markdown",
   "metadata": {},
   "source": [
    "## SENTIMENT ANALYSIS:"
   ]
  },
  {
   "cell_type": "markdown",
   "metadata": {},
   "source": [
    "### Sentiment analysis refers to the use of natural language processing, text analysis, computational linguistics, and biometrics to systematically identify, extract, quantify, and study affective states and subjective information (source: Wikipedia)"
   ]
  },
  {
   "cell_type": "markdown",
   "metadata": {},
   "source": [
    "Here is the process followed in Assignment to analyze the data from twitter:\n",
    "<ul>\n",
    "<li>Data Extraction</li>\n",
    "<li>Data Cleaning</li>\n",
    "<li>Analyze Data</li>\n",
    "</ul>"
   ]
  },
  {
   "cell_type": "markdown",
   "metadata": {},
   "source": [
    "##  ASSIGNMENT 1(a) : with phrase \"Trump\""
   ]
  },
  {
   "cell_type": "code",
   "execution_count": 1,
   "metadata": {},
   "outputs": [
    {
     "name": "stdout",
     "output_type": "stream",
     "text": [
      "bRT realJediMan SkykingRon JaliCat JohnBrennan Either they appear to be a disaster for optics rememb\n"
     ]
    }
   ],
   "source": [
    "import re\n",
    "\n",
    "uncleanText = open(\"trump.txt\").read()               #Open the text file for reading.\n",
    "cleanText = re.sub('[^A-Za-z\\s]+', '', uncleanText)  #Clean the Data which is non-alphabetic\n",
    "open('trumpclean.txt', 'w').write(str(cleanText))    #Open other file to write in clean data\n",
    "print (cleanText[:100])"
   ]
  },
  {
   "cell_type": "markdown",
   "metadata": {},
   "source": [
    "#### Now the Extracted file is converted to lower case so that it could be compared with other text files"
   ]
  },
  {
   "cell_type": "code",
   "execution_count": 2,
   "metadata": {},
   "outputs": [],
   "source": [
    "with open(\"trumpclean.txt\", \"r\") as inputfile, open(\"trumplower.txt\", \"w\") as outputfile: #Open Clean text file and convert it to lower case\n",
    "    for line in inputfile:\n",
    "        outputfile.write(line.lower()) #Converts to lowercase"
   ]
  },
  {
   "cell_type": "markdown",
   "metadata": {},
   "source": [
    "#### After transforming the file to lower case we will use split() function to form list of different text files"
   ]
  },
  {
   "cell_type": "code",
   "execution_count": 3,
   "metadata": {},
   "outputs": [
    {
     "name": "stdout",
     "output_type": "stream",
     "text": [
      "converted and split to lower case\n"
     ]
    }
   ],
   "source": [
    "file = 'trumplower.txt'\n",
    "f = open(file, 'rt')                                               #open file in read mode\n",
    "text = f.read()\n",
    "f.close()\n",
    "open('trumplowersplit.txt', 'w').write(str(text.split()))         #split the file into values of list \n",
    "print (\"converted and split to lower case\")"
   ]
  },
  {
   "cell_type": "code",
   "execution_count": 28,
   "metadata": {},
   "outputs": [],
   "source": [
    "file = 'positive.txt'                                       \n",
    "f = open(file, 'rt')\n",
    "text = f.read()\n",
    "f.close()\n",
    "open('positive.txt', 'w').write(str(text.split()))              #convert positive words file to list values\n",
    "f.close()"
   ]
  },
  {
   "cell_type": "code",
   "execution_count": 29,
   "metadata": {},
   "outputs": [],
   "source": [
    "file = 'negative.txt'\n",
    "f = open(file, 'rt')\n",
    "text = f.read()\n",
    "f.close()\n",
    "open('negative.txt', 'w').write(str(text.split()))               #convert negative words file to list values\n",
    "f.close()"
   ]
  },
  {
   "cell_type": "code",
   "execution_count": 30,
   "metadata": {},
   "outputs": [],
   "source": [
    "file = 'stopwords.txt'\n",
    "f = open(file, 'rt')\n",
    "text = f.read()\n",
    "f.close()\n",
    "open('stopwords.txt', 'w').write(str(text.split()))             #convert  stopwords file to list values \n",
    "f.close()"
   ]
  },
  {
   "cell_type": "markdown",
   "metadata": {},
   "source": [
    "#### I have observed the every emoji/garbage value has X in it so we will replace words with X "
   ]
  },
  {
   "cell_type": "code",
   "execution_count": 4,
   "metadata": {},
   "outputs": [
    {
     "name": "stdout",
     "output_type": "stream",
     "text": [
      "['brt', 'realjediman', 'skykingron', 'jalicat', 'johnbrennan', 'either', 'they', 'appear', 'to', 'be\n"
     ]
    }
   ],
   "source": [
    "import re                                          #regular expression\n",
    "\n",
    "uncleanText = open(\"trumplowersplit.txt\").read()\n",
    "cleanText = re.sub('[\"x\"]', '', uncleanText)\n",
    "open('trumpfinal.txt', 'w').write(cleanText)\n",
    "print (cleanText[:100])"
   ]
  },
  {
   "cell_type": "markdown",
   "metadata": {},
   "source": [
    "#### As you can see all the files are in lowercase and in list  [ ] now we will open all the files and compare for similar values"
   ]
  },
  {
   "cell_type": "code",
   "execution_count": 5,
   "metadata": {},
   "outputs": [],
   "source": [
    "with open('trumpfinal.txt', 'r') as f1: #Open the lowercase text file in read mode\n",
    "    read_A = f1.read()\n",
    "\n",
    "with open('positive.txt', 'r') as f2:   #Open The positive words file in read mode\n",
    "    read_B = f2.read()\n",
    "\n",
    "with open('negative.txt', 'r') as f3:   #Open The negative words file in read mode\n",
    "    read_C = f3.read()\n",
    "\n",
    "with open('stopwords.txt', 'r') as f4:  #Open The stopwords file in read mode\n",
    "    read_D = f4.read()"
   ]
  },
  {
   "cell_type": "code",
   "execution_count": 6,
   "metadata": {},
   "outputs": [],
   "source": [
    "import itertools\n",
    "pwords = 0  #initiate variables to count the positive ,negative and stopwords and others respectively\n",
    "nwords = 0\n",
    "swords = 0\n",
    "others = 0\n",
    "for word_a, word_b, word_c, word_d in itertools.zip_longest(read_A, read_B, read_C, read_D):\n",
    "            if word_a == word_b and word_a != \"trump\": #for loop will iterate untill all the lists are exhausted using zip.longest()\n",
    "                pwords = pwords + 1                    #pwords for positive word match and the word \"trump\" will not be calulated as positive\n",
    "            elif word_a == word_c:\n",
    "                nwords = nwords + 1                    #nwords for negative word match\n",
    "            elif word_a == word_d:\n",
    "                    swords += 1                        #swords for stop word match\n",
    "            else:\n",
    "                others += 1\n",
    "f1.close()\n",
    "f2.close()\n",
    "f3.close()\n",
    "f4.close()"
   ]
  },
  {
   "cell_type": "markdown",
   "metadata": {},
   "source": [
    "<div class=\"alert alert-block alert-danger\"> The Final sentiment would have been weak if we dint check for word \"trump\"  </div>"
   ]
  },
  {
   "cell_type": "markdown",
   "metadata": {},
   "source": [
    "#### Total count will be the count of all the words"
   ]
  },
  {
   "cell_type": "code",
   "execution_count": 7,
   "metadata": {},
   "outputs": [
    {
     "name": "stdout",
     "output_type": "stream",
     "text": [
      "416693\n"
     ]
    }
   ],
   "source": [
    "Total_count = pwords + nwords + swords + others#Total count variable will store the count of words\n",
    "count = pwords + nwords\n",
    "print (Total_count)"
   ]
  },
  {
   "cell_type": "markdown",
   "metadata": {},
   "source": [
    "#### To calculate Ration we will divide count of positive words and count of negative words by the total count"
   ]
  },
  {
   "cell_type": "code",
   "execution_count": 8,
   "metadata": {},
   "outputs": [
    {
     "name": "stdout",
     "output_type": "stream",
     "text": [
      "1.4965454183295617\n",
      "2.6748709481560766\n"
     ]
    }
   ],
   "source": [
    "Ratio_positive = ((pwords/Total_count) * 100) #Calculate Ratio of positive words\n",
    "print (Ratio_positive)\n",
    "\n",
    "Ratio_negative = ((nwords/Total_count) * 100)#Calculate Ration of Negative words\n",
    "print (Ratio_negative)"
   ]
  },
  {
   "cell_type": "code",
   "execution_count": 9,
   "metadata": {},
   "outputs": [
    {
     "name": "stdout",
     "output_type": "stream",
     "text": [
      "Sentiment is Strongly negative\n"
     ]
    }
   ],
   "source": [
    "if Ratio_positive > Ratio_negative:               #to determine sentiment if ratio_positive words is more\n",
    "    diff = (Ratio_positive - Ratio_negative)        #and the difference is more than 50%\n",
    "    if diff > 0.5:                                #then the sentiment is strong or else it is weak\n",
    "        print (\"Sentiment is Strongly positive\")\n",
    "    else:\n",
    "        print (\"Sentiment is Weakly positive\")\n",
    "        \n",
    "elif Ratio_positive < Ratio_negative:            #else the negative ratio is more\n",
    "    diff = Ratio_negative - Ratio_positive       #and the difference is more tha 50% \n",
    "    if diff > 0.5:                               #then sentiment is strong or else it is weak  \n",
    "        print (\"Sentiment is Strongly negative\")\n",
    "    else:\n",
    "        print (\"Sentiment is Weakly negative\")\n",
    "        \n",
    "else:                                           #if the ratio is equal\n",
    "    print(\"Sentiment is neutral\")               #then sentiment is neutral"
   ]
  },
  {
   "cell_type": "markdown",
   "metadata": {},
   "source": [
    "<div class=\"alert alert-block alert-info\"> The final analysis is Strongly negative as we have verified in for loop that word trump wont be counted as positive </div>"
   ]
  },
  {
   "cell_type": "markdown",
   "metadata": {},
   "source": [
    "##  ASSIGNMENT 1(a) : with phrase \"Trump\" as positive word"
   ]
  },
  {
   "cell_type": "code",
   "execution_count": 10,
   "metadata": {},
   "outputs": [
    {
     "name": "stdout",
     "output_type": "stream",
     "text": [
      "bRT realJediMan SkykingRon JaliCat JohnBrennan Either they appear to be a disaster for optics rememb\n"
     ]
    }
   ],
   "source": [
    "import re\n",
    "\n",
    "uncleanText = open(\"trump.txt\").read()               #Open the text file for reading.\n",
    "cleanText = re.sub('[^A-Za-z\\s]+', '', uncleanText)  #Clean the Data which is non-alphabetic\n",
    "open('trumpclean.txt', 'w').write(str(cleanText))    #Open other file to write in clean data\n",
    "print (cleanText[:100])"
   ]
  },
  {
   "cell_type": "code",
   "execution_count": 11,
   "metadata": {},
   "outputs": [],
   "source": [
    "with open(\"trumpclean.txt\", \"r\") as inputfile, open(\"trumplower.txt\", \"w\") as outputfile: #Open Clean text file and convert it to lower case\n",
    "    for line in inputfile:\n",
    "        outputfile.write(line.lower()) #Converts to lowercase"
   ]
  },
  {
   "cell_type": "code",
   "execution_count": 12,
   "metadata": {},
   "outputs": [
    {
     "name": "stdout",
     "output_type": "stream",
     "text": [
      "converted and split to lower case\n"
     ]
    }
   ],
   "source": [
    "file = 'trumplower.txt'\n",
    "f = open(file, 'rt')\n",
    "text = f.read()\n",
    "f.close()\n",
    "open('trumplowersplit.txt', 'w').write(str(text.split()))\n",
    "print (\"converted and split to lower case\")"
   ]
  },
  {
   "cell_type": "code",
   "execution_count": 13,
   "metadata": {},
   "outputs": [
    {
     "name": "stdout",
     "output_type": "stream",
     "text": [
      "['brt', 'realjediman', 'skykingron', 'jalicat', 'johnbrennan', 'either', 'they', 'appear', 'to', 'be\n"
     ]
    }
   ],
   "source": [
    "import re\n",
    "\n",
    "uncleanText = open(\"trumplowersplit.txt\").read()\n",
    "cleanText = re.sub('[\"x\"]', '', uncleanText)\n",
    "open('trumpfinal.txt', 'w').write(cleanText)\n",
    "print (cleanText[:100])"
   ]
  },
  {
   "cell_type": "code",
   "execution_count": 14,
   "metadata": {},
   "outputs": [],
   "source": [
    "with open('trumpfinal.txt', 'r') as f1: #Open the lowercase text file in read mode\n",
    "    read_A = f1.read()\n",
    "\n",
    "with open('positive.txt', 'r') as f2:   #Open The positive words file in read mode\n",
    "    read_B = f2.read()\n",
    "\n",
    "with open('negative.txt', 'r') as f3:   #Open The negative words file in read mode\n",
    "    read_C = f3.read()\n",
    "\n",
    "with open('stopwords.txt', 'r') as f4:  #Open The stopwords file in read mode\n",
    "    read_D = f4.read()"
   ]
  },
  {
   "cell_type": "code",
   "execution_count": 15,
   "metadata": {},
   "outputs": [],
   "source": [
    "import itertools\n",
    "pwords = 0  #initiate variables to count the positive ,negative and stopwords and others respectively\n",
    "nwords = 0\n",
    "swords = 0\n",
    "others = 0\n",
    "for word_a, word_b, word_c, word_d in itertools.zip_longest(read_A, read_B, read_C, read_D):\n",
    "            if word_a == word_b: #for loop will iterate untill all the lists are exhausted using zip.longest()\n",
    "                pwords = pwords + 1                    #pwords for positive word match and\n",
    "            elif word_a == word_c:\n",
    "                nwords = nwords + 1                    #nwords for negative word match\n",
    "            elif word_a == word_d:\n",
    "                    swords += 1                        #swords for stop word match\n",
    "            else:\n",
    "                others += 1\n",
    "f1.close()\n",
    "f2.close()\n",
    "f3.close()\n",
    "f4.close()"
   ]
  },
  {
   "cell_type": "code",
   "execution_count": 16,
   "metadata": {},
   "outputs": [
    {
     "name": "stdout",
     "output_type": "stream",
     "text": [
      "416693\n"
     ]
    }
   ],
   "source": [
    "Total_count = pwords + nwords + swords + others#Total count variable will store the count of words\n",
    "count = pwords + nwords\n",
    "print (Total_count)"
   ]
  },
  {
   "cell_type": "code",
   "execution_count": 17,
   "metadata": {},
   "outputs": [
    {
     "name": "stdout",
     "output_type": "stream",
     "text": [
      "0.014965454183295616\n",
      "0.026748709481560766\n"
     ]
    }
   ],
   "source": [
    "Ratio_positive = ((pwords/Total_count)) #Calculate Ratio of positive words\n",
    "print (Ratio_positive)\n",
    "\n",
    "Ratio_negative = ((nwords/Total_count))#Calculate Ration of Negative words\n",
    "print (Ratio_negative)"
   ]
  },
  {
   "cell_type": "code",
   "execution_count": 18,
   "metadata": {},
   "outputs": [
    {
     "name": "stdout",
     "output_type": "stream",
     "text": [
      "Sentiment is Weakly negative\n"
     ]
    }
   ],
   "source": [
    "if Ratio_positive > Ratio_negative:               #to determine sentiment if ratio_positive words is more\n",
    "    diff = (Ratio_positive - Ratio_negative)        #and the difference is more than 50%\n",
    "    if diff > 0.5:                                #then the sentiment is strong or else it is weak\n",
    "        print (\"Sentiment is Strongly positive\")\n",
    "    else:\n",
    "        print (\"Sentiment is Weakly positive\")\n",
    "        \n",
    "elif Ratio_positive < Ratio_negative:            #else the negative ratio is more\n",
    "    diff = Ratio_negative - Ratio_positive       #and the difference is more tha 50% \n",
    "    if diff > 0.5:                               #then sentiment is strong or else it is weak  \n",
    "        print (\"Sentiment is Strongly negative\")\n",
    "    else:\n",
    "        print (\"Sentiment is Weakly negative\")\n",
    "        \n",
    "else:                                           #if the ratio is equal\n",
    "    print(\"Sentiment is neutral\")               #then sentiment is neutral"
   ]
  },
  {
   "cell_type": "markdown",
   "metadata": {},
   "source": [
    "<div class=\"alert alert-block alert-info\"> The final analysis is weakly negative(which is deviated towards positive) as  word 'trump' is counted as positive  </div>"
   ]
  },
  {
   "cell_type": "markdown",
   "metadata": {},
   "source": [
    "## ASSIGNMENT 2 : with phrase \"JOKER\""
   ]
  },
  {
   "cell_type": "code",
   "execution_count": 19,
   "metadata": {},
   "outputs": [
    {
     "name": "stdout",
     "output_type": "stream",
     "text": [
      "bRT mineifiwildout got pulled over wearing joker make up again  so sick of this fucking shitnbscarby\n"
     ]
    }
   ],
   "source": [
    "import re\n",
    "\n",
    "uncleanText = open(\"joker.txt\").read()               #Open the text file for reading.\n",
    "cleanText = re.sub('[^A-Za-z\\s]+', '', uncleanText)  #Clean the Data which is non-alphabetic\n",
    "open('jokerclean.txt', 'w').write(str(cleanText))    #Open other file to write in clean data\n",
    "print (cleanText[:100])"
   ]
  },
  {
   "cell_type": "code",
   "execution_count": 20,
   "metadata": {},
   "outputs": [],
   "source": [
    "with open(\"jokerclean.txt\", \"r\") as inputfile, open(\"jokerlower.txt\", \"w\") as outputfile: #Open Clean text file and convert it to lower case\n",
    "    for line in inputfile:\n",
    "        outputfile.write(line.lower()) #Converts to lowercase"
   ]
  },
  {
   "cell_type": "code",
   "execution_count": 21,
   "metadata": {},
   "outputs": [
    {
     "name": "stdout",
     "output_type": "stream",
     "text": [
      "converted and split to lower case\n"
     ]
    }
   ],
   "source": [
    "file = 'jokerlower.txt'\n",
    "f = open(file, 'rt')                                          #open file in read mode\n",
    "text = f.read()                \n",
    "f.close()\n",
    "open('jokerlowersplit.txt', 'w').write(str(text.split()))     #split values into list\n",
    "print (\"converted and split to lower case\")"
   ]
  },
  {
   "cell_type": "code",
   "execution_count": 22,
   "metadata": {},
   "outputs": [
    {
     "name": "stdout",
     "output_type": "stream",
     "text": [
      "['brt', 'mineifiwildout', 'got', 'pulled', 'over', 'wearing', 'joker', 'make', 'up', 'again', 'so', \n"
     ]
    }
   ],
   "source": [
    "import re\n",
    "\n",
    "uncleanText = open(\"jokerlowersplit.txt\").read()\n",
    "cleanText = re.sub('[\"x\"]', '', uncleanText)                         #remove garbage value 'x'\n",
    "open('jokerfinal.txt', 'w').write(cleanText)\n",
    "print (cleanText[:100])"
   ]
  },
  {
   "cell_type": "code",
   "execution_count": 23,
   "metadata": {},
   "outputs": [],
   "source": [
    "with open('jokerfinal.txt', 'r') as f1: #Open the lowercase text file in read mode\n",
    "    read_A = f1.read()\n",
    "\n",
    "with open('positive.txt', 'r') as f2:   #Open The positive words file in read mode\n",
    "    read_B = f2.read()\n",
    "\n",
    "with open('negative.txt', 'r') as f3:   #Open The negative words file in read mode\n",
    "    read_C = f3.read()\n",
    "\n",
    "with open('stopwords.txt', 'r') as f4:  #Open The stopwords file in read mode\n",
    "    read_D = f4.read()"
   ]
  },
  {
   "cell_type": "code",
   "execution_count": 24,
   "metadata": {},
   "outputs": [],
   "source": [
    "import itertools\n",
    "pwords = 0  #initiate variables to count the positive ,negative and stopwords and others respectively\n",
    "nwords = 0\n",
    "swords = 0\n",
    "others = 0\n",
    "for word_a, word_b, word_c, word_d in itertools.zip_longest(read_A, read_B, read_C, read_D):\n",
    "            if word_a == word_b:                    #for loop will iterate untill all the lists are exhausted using zip.longest()\n",
    "                pwords = pwords + 1                 #pwords for positive word match\n",
    "            elif word_a == word_c:\n",
    "                nwords = nwords + 1                 #nwords for negative word match\n",
    "            elif word_a == word_d:\n",
    "                    swords += 1                     #swords for stop word match\n",
    "            else:\n",
    "                others += 1\n",
    "f1.close()\n",
    "f2.close()\n",
    "f3.close()\n",
    "f4.close()"
   ]
  },
  {
   "cell_type": "code",
   "execution_count": 25,
   "metadata": {},
   "outputs": [
    {
     "name": "stdout",
     "output_type": "stream",
     "text": [
      "221644\n"
     ]
    }
   ],
   "source": [
    "Total_count = pwords + nwords + swords + others#Total count variable will store the count of words\n",
    "print (Total_count)"
   ]
  },
  {
   "cell_type": "code",
   "execution_count": 26,
   "metadata": {},
   "outputs": [
    {
     "name": "stdout",
     "output_type": "stream",
     "text": [
      "Ratio_positive: 30.255274223529625\n",
      "Ratio_negative: 2.8180325206186496\n"
     ]
    }
   ],
   "source": [
    "Ratio_positive = ((pwords/Total_count) * 100) #Calculate Ratio of positive words\n",
    "print (\"Ratio_positive: \" + str(Ratio_positive))\n",
    "\n",
    "Ratio_negative = ((nwords/Total_count) * 100) #Calculate Ration of Negative words\n",
    "print (\"Ratio_negative: \" + str(Ratio_negative))"
   ]
  },
  {
   "cell_type": "code",
   "execution_count": 27,
   "metadata": {},
   "outputs": [
    {
     "name": "stdout",
     "output_type": "stream",
     "text": [
      "Sentiment is Strongly positive\n"
     ]
    }
   ],
   "source": [
    "if Ratio_positive > Ratio_negative:               #to determine sentiment if ratio_positive words is more\n",
    "    diff = Ratio_positive - Ratio_negative        #and the difference is more than 50%\n",
    "    if diff > 0.5:                                #then the sentiment is strong or else it is weak\n",
    "        print (\"Sentiment is Strongly positive\")\n",
    "    else:\n",
    "        print (\"Sentiment is Weakly positive\")\n",
    "        \n",
    "elif Ratio_positive < Ratio_negative:            #else the negative ratio is more\n",
    "    diff = Ratio_negative - Ratio_positive       #and the difference is more tha 50% \n",
    "    if diff > 0.5:                               #then sentiment is strong or else it is weak  \n",
    "        print (\"Sentiment is Strongly negative\")\n",
    "    else:\n",
    "        print (\"Sentiment is Weakly negative\")\n",
    "        \n",
    "else:                                           #if the ratio is equal\n",
    "    print(\"Sentiment is neutral\")               #then sentiment is neutral"
   ]
  },
  {
   "cell_type": "markdown",
   "metadata": {},
   "source": [
    "<div class=\"alert alert-block alert-info\"> The final analysis is Strongly positive for phrase JOKER  </div>"
   ]
  }
 ],
 "metadata": {
  "kernelspec": {
   "display_name": "Python 3",
   "language": "python",
   "name": "python3"
  },
  "language_info": {
   "codemirror_mode": {
    "name": "ipython",
    "version": 3
   },
   "file_extension": ".py",
   "mimetype": "text/x-python",
   "name": "python",
   "nbconvert_exporter": "python",
   "pygments_lexer": "ipython3",
   "version": "3.7.3"
  }
 },
 "nbformat": 4,
 "nbformat_minor": 1
}
